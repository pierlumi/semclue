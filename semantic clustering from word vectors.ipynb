{
 "cells": [
  {
   "cell_type": "code",
   "execution_count": 18,
   "metadata": {
    "collapsed": true
   },
   "outputs": [],
   "source": [
    "import numpy as np\n",
    "import matplotlib.pyplot as plt"
   ]
  },
  {
   "cell_type": "code",
   "execution_count": 4,
   "metadata": {
    "collapsed": false
   },
   "outputs": [],
   "source": [
    "from pyspark import SparkContext"
   ]
  },
  {
   "cell_type": "code",
   "execution_count": 5,
   "metadata": {
    "collapsed": false
   },
   "outputs": [
    {
     "data": {
      "text/plain": [
       "<pyspark.context.SparkContext at 0x11150dad0>"
      ]
     },
     "execution_count": 5,
     "metadata": {},
     "output_type": "execute_result"
    }
   ],
   "source": [
    "sc"
   ]
  },
  {
   "cell_type": "code",
   "execution_count": 16,
   "metadata": {
    "collapsed": true
   },
   "outputs": [],
   "source": [
    "from pyspark.mllib.clustering import KMeans"
   ]
  },
  {
   "cell_type": "markdown",
   "metadata": {},
   "source": [
    "### First is a test to make sure pyspark, mllib run"
   ]
  },
  {
   "cell_type": "code",
   "execution_count": 2,
   "metadata": {
    "collapsed": true
   },
   "outputs": [],
   "source": [
    "def parseVector(line):\n",
    "    return np.array([float(x) for x in line.split(' ')])"
   ]
  },
  {
   "cell_type": "code",
   "execution_count": 30,
   "metadata": {
    "collapsed": false
   },
   "outputs": [],
   "source": [
    "lines = sc.textFile('/Users/plm/Projects/spark-1.6.1-bin-hadoop2.6/data/mllib/kmeans_data.txt')"
   ]
  },
  {
   "cell_type": "code",
   "execution_count": 31,
   "metadata": {
    "collapsed": false
   },
   "outputs": [
    {
     "data": {
      "text/plain": [
       "PythonRDD[15] at RDD at PythonRDD.scala:43"
      ]
     },
     "execution_count": 31,
     "metadata": {},
     "output_type": "execute_result"
    }
   ],
   "source": [
    "data = lines.map(parseVector)\n",
    "data"
   ]
  },
  {
   "cell_type": "code",
   "execution_count": 44,
   "metadata": {
    "collapsed": false
   },
   "outputs": [],
   "source": [
    "k = 3\n",
    "model = KMeans.train(data, k)"
   ]
  },
  {
   "cell_type": "code",
   "execution_count": 45,
   "metadata": {
    "collapsed": false
   },
   "outputs": [
    {
     "name": "stdout",
     "output_type": "stream",
     "text": [
      "Final centers: [array([ 0.1,  0.1,  0.1]), array([ 9.05,  9.05,  9.05]), array([ 9.2,  9.2,  9.2])]\n"
     ]
    }
   ],
   "source": [
    "print(\"Final centers: \" + str(model.clusterCenters))"
   ]
  },
  {
   "cell_type": "code",
   "execution_count": 43,
   "metadata": {
    "collapsed": false
   },
   "outputs": [
    {
     "name": "stdout",
     "output_type": "stream",
     "text": [
      "Total Cost: 0.0\n"
     ]
    }
   ],
   "source": [
    "print(\"Total Cost: \" + str(model.computeCost(data)))"
   ]
  },
  {
   "cell_type": "markdown",
   "metadata": {},
   "source": [
    "## Word Vectors\n",
    "\n",
    "Let's try to define a parseVector for word embedding vectors (from Glove)"
   ]
  },
  {
   "cell_type": "code",
   "execution_count": 19,
   "metadata": {
    "collapsed": true
   },
   "outputs": [],
   "source": [
    "def parseWordVector(line):\n",
    "    # the first element is lexical (the word)\n",
    "    return np.array([float(x) for x in line.split(' ')[1:]])"
   ]
  },
  {
   "cell_type": "code",
   "execution_count": 20,
   "metadata": {
    "collapsed": true
   },
   "outputs": [],
   "source": [
    "words = sc.textFile('/Users/plm/Projects/AI/gloveCluTest.txt')\n",
    "\n",
    "wdata = words.map(parseWordVector)"
   ]
  },
  {
   "cell_type": "code",
   "execution_count": 21,
   "metadata": {
    "collapsed": false
   },
   "outputs": [
    {
     "data": {
      "text/plain": [
       "<pyspark.context.SparkContext at 0x109082410>"
      ]
     },
     "execution_count": 21,
     "metadata": {},
     "output_type": "execute_result"
    }
   ],
   "source": [
    "wdata.context"
   ]
  },
  {
   "cell_type": "markdown",
   "metadata": {},
   "source": [
    "This is the clustering model training"
   ]
  },
  {
   "cell_type": "code",
   "execution_count": 22,
   "metadata": {
    "collapsed": false,
    "scrolled": false
   },
   "outputs": [],
   "source": [
    "k = 3\n",
    "wmodel = KMeans.train(wdata, k)"
   ]
  },
  {
   "cell_type": "code",
   "execution_count": 23,
   "metadata": {
    "collapsed": false
   },
   "outputs": [
    {
     "name": "stdout",
     "output_type": "stream",
     "text": [
      "WCenters: [array([ 0.280034  , -0.1340824 ,  0.09878116,  0.4036176 ,  0.385996  ,\n",
      "        0.374176  ,  0.599006  , -0.106858  ,  0.1581594 ,  0.067038  ,\n",
      "        0.1739374 , -0.341234  ,  0.0063596 ,  0.947904  , -0.2275554 ,\n",
      "       -0.2620226 , -0.09254221,  0.6055134 ,  0.077916  , -0.1450394 ,\n",
      "       -0.1402832 , -0.4869262 ,  0.127836  ,  0.025584  ,  0.0561592 ,\n",
      "        0.997354  , -0.3772572 ,  0.37484   ,  0.284746  ,  0.226065  ,\n",
      "       -0.421974  ,  0.0211352 ,  0.2793902 , -0.0473624 , -0.0858876 ,\n",
      "        0.634544  , -0.149838  ,  0.30682083, -0.312668  ,  0.04028478,\n",
      "       -0.032446  , -0.63741   , -0.488192  ,  0.2057832 ,  0.060986  ,\n",
      "       -0.179794  ,  0.673028  ,  0.4276144 , -0.1231888 , -0.1039176 ]), array([ 0.54064  ,  0.51792  ,  1.40255  ,  0.12265  ,  0.921345 ,\n",
      "        0.73871  ,  1.084935 , -0.25816  ,  0.35957  ,  1.5817   ,\n",
      "        1.000735 ,  0.1087615,  0.112116 ,  1.7156   , -0.513085 ,\n",
      "        0.63515  ,  0.74775  ,  1.086475 , -0.883635 , -0.106765 ,\n",
      "        0.315845 , -0.66436  ,  0.833635 , -0.0955585,  0.25181  ,\n",
      "       -0.137445 ,  0.20506  ,  0.42946  ,  0.45803  ,  0.32202  ,\n",
      "        0.73573  , -1.0324   , -0.269205 , -0.73742  ,  0.488355 ,\n",
      "        0.3242755,  0.37694  , -0.120278 ,  0.402505 ,  0.535955 ,\n",
      "        0.148165 , -0.06821  , -0.90883  , -0.47756  ,  0.57988  ,\n",
      "        0.17859  ,  0.6967   ,  0.33043  , -0.423287 , -0.210275 ]), array([ 0.1285375 , -0.138845  , -0.1438975 ,  0.9853225 , -0.6839625 ,\n",
      "       -0.2446175 , -1.0155675 , -0.6424875 ,  0.7301525 ,  0.27101757,\n",
      "       -0.13604225,  0.3553275 ,  0.560125  ,  0.24542   ,  0.211885  ,\n",
      "        0.2736625 , -0.09872425,  0.013368  ,  0.0086392 ,  0.14607375,\n",
      "       -0.07307648,  0.41616   ,  0.17416   ,  0.9474425 ,  0.2171615 ,\n",
      "        0.7832125 ,  0.581305  , -0.03895345, -0.19432725,  0.1163775 ,\n",
      "       -0.7640025 ,  0.34917225,  0.21979   , -0.01665   , -0.65625   ,\n",
      "        0.110304  , -0.6102    , -0.21287725, -0.568034  , -0.1111475 ,\n",
      "        1.046265  ,  0.28490825, -0.4948275 ,  1.1874025 ,  0.2806725 ,\n",
      "        0.15780025, -0.2442675 ,  0.57737325,  0.0202575 ,  0.1824875 ])]\n"
     ]
    }
   ],
   "source": [
    "print(\"WCenters: \" + str(wmodel.clusterCenters))"
   ]
  },
  {
   "cell_type": "code",
   "execution_count": 24,
   "metadata": {
    "collapsed": false
   },
   "outputs": [
    {
     "name": "stdout",
     "output_type": "stream",
     "text": [
      "Total Cost: 112.431878438\n"
     ]
    }
   ],
   "source": [
    "print(\"Total Cost: \" + str(wmodel.computeCost(wdata)))"
   ]
  },
  {
   "cell_type": "code",
   "execution_count": 40,
   "metadata": {
    "collapsed": false
   },
   "outputs": [
    {
     "data": {
      "text/plain": [
       "0"
      ]
     },
     "execution_count": 40,
     "metadata": {},
     "output_type": "execute_result"
    }
   ],
   "source": [
    "# predict #quasar\n",
    "quasar = np.array([float(y) for y in '0.81366 0.34778 1.0382 0.42373 0.6311 0.13384 0.62679 -0.26089 -0.25787 0.4266 0.56549 0.33829 0.1547 0.77755 -1.1131 0.044387 -0.47356 0.75035 -1.0408 -0.074317 -0.010678 -0.59779 0.62427 -0.46235 0.09391 0.51924 -1.1409 0.32461 0.31154 0.33386 -0.88915 0.27795 0.32395 -0.21603 -0.18094 -0.35389 -0.72745 -0.13955 -0.51114 -0.072485 0.11978 -0.62994 -0.44321 -0.12407 -0.21969 -0.21427 -0.01403 -0.54685 0.19101 -0.44613'.split(' ')])\n",
    "breadstick = np.array([float(y) for y in '0.2395 -0.56242 0.35542 -0.2117 0.69868 0.64646 0.69423 0.67223 0.4528 0.32601 0.070347 -0.60451 0.16395 1.1725 0.096925 -0.60479 0.00090817 -0.032583 0.27921 -0.73937 -0.081928 -0.84049 -0.18349 0.75588 0.34154 1.0739 0.059534 0.27966 0.64322 0.080375 -0.81742 0.055436 0.15269 1.2137 0.04764 0.4355 0.56946 0.77169 -0.40506 0.15355 0.95617 -0.41984 -0.3729 0.41403 -0.2493 -0.21481 0.83289 0.075492 -0.098114 -0.020928'.split(' ')])\n",
    "\n",
    "quasar\n",
    "\n",
    "wmodel.predict(quasar)"
   ]
  },
  {
   "cell_type": "code",
   "execution_count": 29,
   "metadata": {
    "collapsed": false
   },
   "outputs": [
    {
     "data": {
      "text/plain": [
       "array(['0.2395', '-0.56242', '0.35542', '-0.2117', '0.69868', '0.64646',\n",
       "       '0.69423', '0.67223', '0.4528', '0.32601', '0.070347', '-0.60451',\n",
       "       '0.16395', '1.1725', '0.096925', '-0.60479', '0.00090817',\n",
       "       '-0.032583', '0.27921', '-0.73937', '-0.081928', '-0.84049',\n",
       "       '-0.18349', '0.75588', '0.34154', '1.0739', '0.059534', '0.27966',\n",
       "       '0.64322', '0.080375', '-0.81742', '0.055436', '0.15269', '1.2137',\n",
       "       '0.04764', '0.4355', '0.56946', '0.77169', '-0.40506', '0.15355',\n",
       "       '0.95617', '-0.41984', '-0.3729', '0.41403', '-0.2493', '-0.21481',\n",
       "       '0.83289', '0.075492', '-0.098114', '-0.020928'], \n",
       "      dtype='|S10')"
      ]
     },
     "execution_count": 29,
     "metadata": {},
     "output_type": "execute_result"
    }
   ],
   "source": [
    "np.array('0.2395 -0.56242 0.35542 -0.2117 0.69868 0.64646 0.69423 0.67223 0.4528 0.32601 0.070347 -0.60451 0.16395 1.1725 0.096925 -0.60479 0.00090817 -0.032583 0.27921 -0.73937 -0.081928 -0.84049 -0.18349 0.75588 0.34154 1.0739 0.059534 0.27966 0.64322 0.080375 -0.81742 0.055436 0.15269 1.2137 0.04764 0.4355 0.56946 0.77169 -0.40506 0.15355 0.95617 -0.41984 -0.3729 0.41403 -0.2493 -0.21481 0.83289 0.075492 -0.098114 -0.020928'.split(' '))"
   ]
  },
  {
   "cell_type": "code",
   "execution_count": null,
   "metadata": {
    "collapsed": true
   },
   "outputs": [],
   "source": []
  }
 ],
 "metadata": {
  "kernelspec": {
   "display_name": "Python 2",
   "language": "python",
   "name": "python2"
  },
  "language_info": {
   "codemirror_mode": {
    "name": "ipython",
    "version": 2
   },
   "file_extension": ".py",
   "mimetype": "text/x-python",
   "name": "python",
   "nbconvert_exporter": "python",
   "pygments_lexer": "ipython2",
   "version": "2.7.11"
  }
 },
 "nbformat": 4,
 "nbformat_minor": 0
}
